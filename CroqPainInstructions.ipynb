{
 "cells": [
  {
   "cell_type": "markdown",
   "id": "77dbdd70",
   "metadata": {},
   "source": [
    "# Croq'Pain\n",
    "\n",
    "You can find the Croq'Pain case on pages 299-306 in the textbook, _Data, Models, and Decisions_. Please use the data set provided and not the data from the book.\n",
    "\n",
    "`CroqPain.parquet` is the full data set that includes all stores as well as a set of 10 potential new store locations. Below, we provide some extra guidance as you work through each part of the case.\n",
    "\n",
    "### Before you start ...\n",
    "\n",
    "There is a problem in the data file `CroqPain.parquet` (i.e., the data needs some 'cleaning'). Find the issue and propose a fix before you continue with the analysis.\n",
    "\n",
    "* Hint: Check data histograms\n",
    "\n",
    "Post questions on Piazza as needed. Discuss your \"fix\" with the TAs during a work session or post your proposed data \"fix\" on Piazza as a private post. Apply your fix and \"store\" it into a dataset called `CroqPainFix`.\n",
    "\n",
    "### Part (a)\n",
    "\n",
    "Visualize the data: examine histograms and scatterplots. Look at correlations between variables and try to identify sources of concern. Pay particular attention to the correlation for `total` and `P15` through `P55`. Do these correlations make sense to you?\n",
    "\n",
    "Apply a transformation to the variables `EARN`, `P15`, `P25`, `P35`, `P45`, `P55`, `COMP`, `NCOMP`, and `NREST` where you normalize them by `total`. You can apply this normalization by defining new variables such as `EARN_total` which is equal to `EARN` divided by `total`.\n",
    "\n",
    "Evaluate correlations and regressions with both the transformed and un-transformed data. Which do you prefer and why?\n",
    "\n",
    "When you run regressions, be sure to use the `VIF` feature in Radiant for a more rigorous evaluation of multicollinearity. As you are building a model, it can also be useful to examine standardized coefficients. Also, conduct linear regression validation checks by using the `dashboard` plots in the `Plots` tab (see section 6.6 in the book).\n",
    "\n",
    "If interested, you can experiment with the `Stepwise selection` option in the _Summary_ tab (i.e., click the checkbox) in the R version of Radiant (launched from RStudio). This is a feature in Radiant that uses a purely statistical approach to model building based on the Akaike Information Criterion (AIC). It will go through a series of steps and recommend a final model (see the bottom of the output). Compare the model selected using `Stepwise selection` to the model you arrived at yourself. Be critical and make a decision about the final model to recommend for Croq`Pain.\n",
    "\n",
    "### Part (b)\n",
    "\n",
    "Remember to use a subset of the `CroqPainFix` data with only the 50 stores opened up prior to 1994. After you build your regression model using `CroqPainFix` select the `Predict` tab in Radiant.\n",
    "\n",
    "### Part (c)\n",
    "\n",
    "This part can be completed using the same Radiant features applied earlier.\n",
    "\n",
    "---\n",
    "Copyright (c), 2018 by Vincent Nijs, Rady School of Management,\n",
    "University of\tCalifornia, San Diego, Otterson Hall, 3W116,\n",
    "9500 Gilman Drive, MC 0553, La Jolla, California 92093-0553,\n",
    "e-mail: vnijs@ucsd.edu"
   ]
  }
 ],
 "metadata": {
  "jupytext": {
   "cell_metadata_filter": "-all",
   "main_language": "python",
   "notebook_metadata_filter": "-all"
  },
  "language_info": {
   "name": "python"
  }
 },
 "nbformat": 4,
 "nbformat_minor": 5
}
